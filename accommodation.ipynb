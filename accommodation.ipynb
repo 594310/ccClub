{
 "cells": [
  {
   "cell_type": "code",
   "execution_count": 2,
   "id": "5aa7836d",
   "metadata": {},
   "outputs": [],
   "source": [
    "# 住宿資訊\n",
    "from requests import get\n",
    "from bs4 import BeautifulSoup\n",
    "from time import sleep             #不能狂爬,要用 sleep 設停頓避免被反爬蟲禁IP\n",
    "import openpyxl\n",
    "\n",
    "wb = openpyxl.Workbook()\n",
    "ws = wb.active\n",
    "\n",
    "dic1 = {}\n",
    "info_all = []\n",
    "url_base = \"https://hiking.biji.co\"\n",
    "page = 0\n",
    "url_rent = \"https://hiking.biji.co/index.php?q=place&type=1&page=\"\n",
    "data=[\"init\"]\n",
    "while len(data) != 0:\n",
    "    page += 1\n",
    "    res = get(url_rent+str(page))\n",
    "    soup = BeautifulSoup(res.text)\n",
    "    data = soup.find_all('div', class_=\"flex-1 p-5 space-y-2.5\")\n",
    "    for i in range(len(data)):\n",
    "        url = url_base + data[i].h2.a[\"href\"]\n",
    "        sub_res = get(url)\n",
    "        sub_soup = BeautifulSoup(sub_res.text)\n",
    "        sub_data_tag =sub_soup.find('dl', class_=\"border\").find_all('dt')\n",
    "        sub_data_value =sub_soup.find('dl', class_=\"border\").find_all('dd')\n",
    "        info = [\"\"]*100\n",
    "        for j in range(len(sub_data_tag)):\n",
    "            dic1[sub_data_tag[j].text] = dic1.get(sub_data_tag[j].text,len(dic1))\n",
    "            if sub_data_tag[j].text == \"營業時間\":\n",
    "                info[dic1[\"備註\"]] = sub_data_value[j].text\n",
    "            elif sub_data_value[j].find(\"a\") == None:\n",
    "                info[dic1[sub_data_tag[j].text]] = sub_data_value[j].text\n",
    "            else:\n",
    "                info[dic1[sub_data_tag[j].text]] = url_base + sub_data_value[j].find(\"a\")[\"href\"]\n",
    "        info_all.append(info)\n",
    "ws.append(list(dic1.keys()))\n",
    "for i in range(len(info_all)):\n",
    "    ws.append(info_all[i])\n",
    "wb.save('健行筆記住宿.xlsx')"
   ]
  }
 ],
 "metadata": {
  "kernelspec": {
   "display_name": "Python 3 (ipykernel)",
   "language": "python",
   "name": "python3"
  },
  "language_info": {
   "codemirror_mode": {
    "name": "ipython",
    "version": 3
   },
   "file_extension": ".py",
   "mimetype": "text/x-python",
   "name": "python",
   "nbconvert_exporter": "python",
   "pygments_lexer": "ipython3",
   "version": "3.11.9"
  }
 },
 "nbformat": 4,
 "nbformat_minor": 5
}
